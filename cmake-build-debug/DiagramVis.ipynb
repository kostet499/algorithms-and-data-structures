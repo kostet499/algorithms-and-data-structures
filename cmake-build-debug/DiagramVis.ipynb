{
 "cells": [
  {
   "cell_type": "code",
   "execution_count": 1,
   "metadata": {},
   "outputs": [],
   "source": [
    "import pandas as pd\n",
    "import numpy as np\n",
    "import matplotlib.pyplot as plt\n",
    "%matplotlib inline"
   ]
  },
  {
   "cell_type": "code",
   "execution_count": 28,
   "metadata": {},
   "outputs": [
    {
     "data": {
      "text/html": [
       "<div>\n",
       "<style scoped>\n",
       "    .dataframe tbody tr th:only-of-type {\n",
       "        vertical-align: middle;\n",
       "    }\n",
       "\n",
       "    .dataframe tbody tr th {\n",
       "        vertical-align: top;\n",
       "    }\n",
       "\n",
       "    .dataframe thead th {\n",
       "        text-align: right;\n",
       "    }\n",
       "</style>\n",
       "<table border=\"1\" class=\"dataframe\">\n",
       "  <thead>\n",
       "    <tr style=\"text-align: right;\">\n",
       "      <th></th>\n",
       "      <th>fx</th>\n",
       "      <th>fy</th>\n",
       "      <th>sx</th>\n",
       "      <th>sy</th>\n",
       "      <th>fst</th>\n",
       "      <th>scd</th>\n",
       "    </tr>\n",
       "  </thead>\n",
       "  <tbody>\n",
       "    <tr>\n",
       "      <th>0</th>\n",
       "      <td>-0.500000</td>\n",
       "      <td>-3.5000</td>\n",
       "      <td>1.83333</td>\n",
       "      <td>1.16667</td>\n",
       "      <td>0.0</td>\n",
       "      <td>0.0</td>\n",
       "    </tr>\n",
       "    <tr>\n",
       "      <th>1</th>\n",
       "      <td>-0.666667</td>\n",
       "      <td>11.1667</td>\n",
       "      <td>1.83333</td>\n",
       "      <td>1.16667</td>\n",
       "      <td>1.0</td>\n",
       "      <td>0.0</td>\n",
       "    </tr>\n",
       "    <tr>\n",
       "      <th>2</th>\n",
       "      <td>-10.500000</td>\n",
       "      <td>-13.5000</td>\n",
       "      <td>-0.50000</td>\n",
       "      <td>-3.50000</td>\n",
       "      <td>1.0</td>\n",
       "      <td>0.0</td>\n",
       "    </tr>\n",
       "    <tr>\n",
       "      <th>3</th>\n",
       "      <td>-0.500000</td>\n",
       "      <td>-3.5000</td>\n",
       "      <td>1.83333</td>\n",
       "      <td>1.16667</td>\n",
       "      <td>0.0</td>\n",
       "      <td>0.0</td>\n",
       "    </tr>\n",
       "    <tr>\n",
       "      <th>4</th>\n",
       "      <td>-0.500000</td>\n",
       "      <td>-3.5000</td>\n",
       "      <td>4.16667</td>\n",
       "      <td>-1.16667</td>\n",
       "      <td>0.0</td>\n",
       "      <td>0.0</td>\n",
       "    </tr>\n",
       "  </tbody>\n",
       "</table>\n",
       "</div>"
      ],
      "text/plain": [
       "          fx       fy       sx       sy  fst  scd\n",
       "0  -0.500000  -3.5000  1.83333  1.16667  0.0  0.0\n",
       "1  -0.666667  11.1667  1.83333  1.16667  1.0  0.0\n",
       "2 -10.500000 -13.5000 -0.50000 -3.50000  1.0  0.0\n",
       "3  -0.500000  -3.5000  1.83333  1.16667  0.0  0.0\n",
       "4  -0.500000  -3.5000  4.16667 -1.16667  0.0  0.0"
      ]
     },
     "execution_count": 28,
     "metadata": {},
     "output_type": "execute_result"
    }
   ],
   "source": [
    "test = pd.read_csv(\"test\", delimiter=\" \", dtype=float)\n",
    "data = pd.read_csv(\"visualisation_data.csv\", delimiter=\";\",dtype=float)\n",
    "fst = np.array(data[\"fst\"]) > 0.5\n",
    "scd = np.array(data[\"scd\"]) > 0.5\n",
    "fx = np.array(data[\"fx\"])\n",
    "fy = np.array(data[\"fy\"])\n",
    "sx = np.array(data[\"sx\"])\n",
    "sy = np.array(data[\"sy\"])\n",
    "data.head()"
   ]
  },
  {
   "cell_type": "code",
   "execution_count": 29,
   "metadata": {},
   "outputs": [
    {
     "data": {
      "text/html": [
       "<div>\n",
       "<style scoped>\n",
       "    .dataframe tbody tr th:only-of-type {\n",
       "        vertical-align: middle;\n",
       "    }\n",
       "\n",
       "    .dataframe tbody tr th {\n",
       "        vertical-align: top;\n",
       "    }\n",
       "\n",
       "    .dataframe thead th {\n",
       "        text-align: right;\n",
       "    }\n",
       "</style>\n",
       "<table border=\"1\" class=\"dataframe\">\n",
       "  <thead>\n",
       "    <tr style=\"text-align: right;\">\n",
       "      <th></th>\n",
       "      <th>x</th>\n",
       "      <th>y</th>\n",
       "    </tr>\n",
       "  </thead>\n",
       "  <tbody>\n",
       "    <tr>\n",
       "      <th>0</th>\n",
       "      <td>0.0</td>\n",
       "      <td>0.0</td>\n",
       "    </tr>\n",
       "    <tr>\n",
       "      <th>1</th>\n",
       "      <td>3.0</td>\n",
       "      <td>-3.0</td>\n",
       "    </tr>\n",
       "    <tr>\n",
       "      <th>2</th>\n",
       "      <td>4.0</td>\n",
       "      <td>1.0</td>\n",
       "    </tr>\n",
       "    <tr>\n",
       "      <th>3</th>\n",
       "      <td>2.0</td>\n",
       "      <td>-1.0</td>\n",
       "    </tr>\n",
       "  </tbody>\n",
       "</table>\n",
       "</div>"
      ],
      "text/plain": [
       "     x    y\n",
       "0  0.0  0.0\n",
       "1  3.0 -3.0\n",
       "2  4.0  1.0\n",
       "3  2.0 -1.0"
      ]
     },
     "execution_count": 29,
     "metadata": {},
     "output_type": "execute_result"
    }
   ],
   "source": [
    "test.head()"
   ]
  },
  {
   "cell_type": "code",
   "execution_count": 30,
   "metadata": {},
   "outputs": [
    {
     "data": {
      "image/png": "[encoded data removed]",
      "text/plain": [
       "<Figure size 720x1080 with 1 Axes>"
      ]
     },
     "metadata": {
      "needs_background": "light"
     },
     "output_type": "display_data"
    }
   ],
   "source": [
    "plt.figure(figsize=(10, 15))\n",
    "\n",
    "site_x = np.array(test.x)\n",
    "site_y = np.array(test.y)\n",
    "plt.scatter(site_x, site_y, color='red')\n",
    "\n",
    "voronoi_x = [ fx[i] for i in range(len(fx)) if fst[i] == False ]\n",
    "voronoi_y = [ fy[i] for i in range(len(fy)) if fst[i] == False ]\n",
    "plt.scatter(voronoi_x, voronoi_y, color='blue')\n",
    "voronoi_x = [ sx[i] for i in range(len(sx)) if scd[i] == False ]\n",
    "voronoi_y = [ sy[i] for i in range(len(sy)) if scd[i] == False ]\n",
    "plt.scatter(voronoi_x, voronoi_y, color='blue')\n",
    "\n",
    "for i in range(len(fx)):\n",
    "    plt.plot([fx[i], sx[i]], [fy[i], sy[i]], '-', color='blue')\n",
    "\n",
    "plt.show()"
   ]
  },
  {
   "cell_type": "code",
   "execution_count": null,
   "metadata": {},
   "outputs": [],
   "source": []
  },
  {
   "cell_type": "code",
   "execution_count": null,
   "metadata": {},
   "outputs": [],
   "source": []
  }
 ],
 "metadata": {
  "kernelspec": {
   "display_name": "Python 3",
   "language": "python",
   "name": "python3"
  },
  "language_info": {
   "codemirror_mode": {
    "name": "ipython",
    "version": 3
   },
   "file_extension": ".py",
   "mimetype": "text/x-python",
   "name": "python",
   "nbconvert_exporter": "python",
   "pygments_lexer": "ipython3",
   "version": "3.7.1"
  }
 },
 "nbformat": 4,
 "nbformat_minor": 2
}
